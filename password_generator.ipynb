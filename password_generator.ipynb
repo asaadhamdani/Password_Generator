{
 "cells": [
  {
   "cell_type": "code",
   "execution_count": null,
   "metadata": {},
   "outputs": [],
   "source": [
    "import random\n",
    "alphabets = ['a', 'b', 'c', 'd', 'e', 'f', 'g', 'h', 'i', 'j', 'k', 'l', 'm', 'n', 'o', 'p', 'q', 'r', 's', 't', 'u', 'v', 'w', 'x', 'y', 'z']\n",
    "numbers_list = [0, 1, 2, 3, 4, 5, 6, 7, 8, 9]\n",
    "character_list = ['!', '@', '#', '$', '%', '&', '*', '?', '+', '(', ')']\n",
    "\n",
    "print(\"Welcom to pyPassword Generator!\")\n",
    "\n",
    "nr_letters = int(input('How many letters would you like in your password?\\n'))\n",
    "letters = random.sample(alphabets, nr_letters) # Randomize the letters selecte according to user's input\n",
    "\n",
    "nr_numbers = int(input('How many numbers would you like in your password?\\n'))\n",
    "numbers = random.sample(numbers_list, nr_numbers) # Randomize the numbers selecte according to user's input\n",
    "\n",
    "nr_characters = int(input('How many characters would you like in your password?\\n'))\n",
    "character = random.sample(character_list, nr_characters) # Randomize the special character selecte according to user's input\n",
    "\n",
    "formated_output = ''.join(map(str, letters + numbers + character)) # Convert back to string with string concating\n",
    "\n",
    "# Shuffle the combined string\n",
    "password_list = list(formated_output)  # Convert to list\n",
    "random.shuffle(password_list)  # Shuffle the list\n",
    "shuffled_password = ''.join(password_list)  # Convert back to string\n",
    "\n",
    "\n",
    "print(f\"your password is: {shuffled_password}\")"
   ]
  },
  {
   "cell_type": "code",
   "execution_count": null,
   "metadata": {},
   "outputs": [],
   "source": [
    "import random\n",
    "\n",
    "alphabets = ['a', 'b', 'c', 'd', 'e', 'f', 'g', 'h', 'i', 'j', 'k', 'l', 'm', 'n', 'o', 'p', 'q', 'r', 's', 't', 'u', 'v', 'w', 'x', 'y', 'z']\n",
    "numbers_list = [0, 1, 2, 3, 4, 5, 6, 7, 8, 9]\n",
    "character_list = ['!', '@', '#', '$', '%', '&', '*', '?', '+', '(', ')']\n",
    "\n",
    "print(\"Welcom to pyPassword Generator!\")\n",
    "\n",
    "nr_letters = int(input('How many letters would you like in your password?\\n'))\n",
    "nr_numbers = int(input('How many numbers would you like in your password?\\n'))\n",
    "nr_characters = int(input('How many characters would you like in your password?\\n'))\n",
    "\n",
    "password = '' # Empty string to save values from loops\n",
    "\n",
    "# Loop to get letters according to user's input\n",
    "for char in range(1, nr_letters + 1):\n",
    "    random_letter = random.choice(alphabets)\n",
    "    password += random_letter\n",
    "# Loop to get numbers according to user's input\n",
    "for char in range(1, nr_numbers + 1):\n",
    "    random_num = random.choice(numbers_list)\n",
    "    password += str(random_num)\n",
    "# Loop to get special characters according to user's input\n",
    "for char in range(1, nr_characters + 1):\n",
    "    random_char = random.choice(character_list)\n",
    "    password += random_char\n",
    "    \n",
    "# Shuffle the password\n",
    "\n",
    "password_to_list = list(password) # Convert from string to list\n",
    "new_password = random.shuffle(password_to_list) # Shuffle the list\n",
    "new_password = ''.join(password_to_list)  # Convert back to string\n",
    "\n",
    "\n",
    "print(f\"your password is: {new_password}\")"
   ]
  }
 ],
 "metadata": {
  "kernelspec": {
   "display_name": "Python 3",
   "language": "python",
   "name": "python3"
  },
  "language_info": {
   "codemirror_mode": {
    "name": "ipython",
    "version": 3
   },
   "file_extension": ".py",
   "mimetype": "text/x-python",
   "name": "python",
   "nbconvert_exporter": "python",
   "pygments_lexer": "ipython3",
   "version": "3.12.3"
  }
 },
 "nbformat": 4,
 "nbformat_minor": 2
}
